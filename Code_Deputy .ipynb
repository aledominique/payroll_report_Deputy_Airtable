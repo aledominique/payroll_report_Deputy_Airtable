{
 "cells": [
  {
   "cell_type": "markdown",
   "metadata": {},
   "source": [
    "# Payroll Report using Deputy and Airtable\n",
    "### by Alejandra Ramos de Vega"
   ]
  },
  {
   "cell_type": "code",
   "execution_count": 1,
   "metadata": {},
   "outputs": [],
   "source": [
    "import pandas as pd\n",
    "import numpy as np\n",
    "import math"
   ]
  },
  {
   "cell_type": "code",
   "execution_count": 11,
   "metadata": {},
   "outputs": [],
   "source": [
    "df_m1=pd.read_csv('Payroll_Deputy_Report.csv')\n",
    "df_m1.insert(15,'Status', ' ')"
   ]
  },
  {
   "cell_type": "code",
   "execution_count": 27,
   "metadata": {},
   "outputs": [
    {
     "name": "stderr",
     "output_type": "stream",
     "text": [
      "/var/folders/cz/mrz_s61n5r1c3_x70xssn2gh0000gn/T/ipykernel_24911/2716840622.py:13: SettingWithCopyWarning: \n",
      "A value is trying to be set on a copy of a slice from a DataFrame\n",
      "\n",
      "See the caveats in the documentation: https://pandas.pydata.org/pandas-docs/stable/user_guide/indexing.html#returning-a-view-versus-a-copy\n",
      "  df_m1['Status'][i]=3\n",
      "/var/folders/cz/mrz_s61n5r1c3_x70xssn2gh0000gn/T/ipykernel_24911/2716840622.py:15: SettingWithCopyWarning: \n",
      "A value is trying to be set on a copy of a slice from a DataFrame\n",
      "\n",
      "See the caveats in the documentation: https://pandas.pydata.org/pandas-docs/stable/user_guide/indexing.html#returning-a-view-versus-a-copy\n",
      "  df_m1['Status'][i]=1\n",
      "/var/folders/cz/mrz_s61n5r1c3_x70xssn2gh0000gn/T/ipykernel_24911/2716840622.py:10: SettingWithCopyWarning: \n",
      "A value is trying to be set on a copy of a slice from a DataFrame\n",
      "\n",
      "See the caveats in the documentation: https://pandas.pydata.org/pandas-docs/stable/user_guide/indexing.html#returning-a-view-versus-a-copy\n",
      "  df_m1['Status'][i]=2\n"
     ]
    }
   ],
   "source": [
    "# 1. Sick Leave with Doctors Notice >>>>> 2\n",
    "# 4. Annual Leave (Vacation) >>>>>> 3\n",
    "# Working hours >>>>> 1\n",
    "\n",
    "i=0\n",
    "for i in range(len(df_m1['Employee Export Code'])):\n",
    "    if df_m1['Leave'][i]=='1. Sick Leave with Doctors Notice':\n",
    "        df_m1['Status'][i]=2\n",
    "    else:  \n",
    "        if df_m1['Leave'][i]=='4. Annual Leave (Vacation)':\n",
    "                df_m1['Status'][i]=3\n",
    "        else:\n",
    "            df_m1['Status'][i]=1\n",
    "    i=i+1           "
   ]
  },
  {
   "cell_type": "markdown",
   "metadata": {},
   "source": [
    "---------"
   ]
  },
  {
   "cell_type": "code",
   "execution_count": 29,
   "metadata": {},
   "outputs": [],
   "source": [
    "#Status = 1 -----> working hours of the 1st month \n",
    "from pandasql import sqldf\n",
    "pysqldf = lambda q: sqldf(q, globals())\n",
    "hours_m1=pysqldf('SELECT(\"Employee Export Code\"),(\"Employee Name\"),sum(\"Total Hours\"),(\"Status\") from df_m1 where Status=1 group by (\"Employee Export Code\")')"
   ]
  },
  {
   "cell_type": "code",
   "execution_count": 30,
   "metadata": {},
   "outputs": [],
   "source": [
    "#Status = 3 -----> vacation hours of the 1st month \n",
    "pysqldf = lambda q: sqldf(q, globals())\n",
    "hours_m1_vac=pysqldf('SELECT(\"Employee Export Code\"),(\"Employee Name\"),sum(\"Total Hours\"),(\"Status\") from df_m1 where Status=3 group by (\"Employee Export Code\")')"
   ]
  },
  {
   "cell_type": "code",
   "execution_count": 31,
   "metadata": {},
   "outputs": [],
   "source": [
    "#Status = 2 -----> sick hours of the 1st month \n",
    "pysqldf = lambda q: sqldf(q, globals())\n",
    "hours_m1_sick=pysqldf('SELECT(\"Employee Export Code\"),(\"Employee Name\"),sum(\"Total Hours\"),(\"Status\") from df_m1 where Status=2 group by (\"Employee Export Code\")')"
   ]
  },
  {
   "cell_type": "markdown",
   "metadata": {},
   "source": [
    "-------"
   ]
  },
  {
   "cell_type": "markdown",
   "metadata": {},
   "source": [
    "### Unique Employees Name and Payroll ID"
   ]
  },
  {
   "cell_type": "code",
   "execution_count": 32,
   "metadata": {},
   "outputs": [],
   "source": [
    "pysqldf = lambda q: sqldf(q, globals())\n",
    "employees= pysqldf('SELECT DISTINCT(\"Employee Export Code\"),(\"Employee Name\") from df_m1')"
   ]
  },
  {
   "cell_type": "code",
   "execution_count": 33,
   "metadata": {},
   "outputs": [
    {
     "data": {
      "text/html": [
       "<div>\n",
       "<style scoped>\n",
       "    .dataframe tbody tr th:only-of-type {\n",
       "        vertical-align: middle;\n",
       "    }\n",
       "\n",
       "    .dataframe tbody tr th {\n",
       "        vertical-align: top;\n",
       "    }\n",
       "\n",
       "    .dataframe thead th {\n",
       "        text-align: right;\n",
       "    }\n",
       "</style>\n",
       "<table border=\"1\" class=\"dataframe\">\n",
       "  <thead>\n",
       "    <tr style=\"text-align: right;\">\n",
       "      <th></th>\n",
       "      <th>Employee Export Code</th>\n",
       "      <th>Employee Name</th>\n",
       "    </tr>\n",
       "  </thead>\n",
       "  <tbody>\n",
       "    <tr>\n",
       "      <th>0</th>\n",
       "      <td>ID1234567</td>\n",
       "      <td>Pedro Sanchez</td>\n",
       "    </tr>\n",
       "    <tr>\n",
       "      <th>1</th>\n",
       "      <td>ID23456</td>\n",
       "      <td>Rafael Suarez</td>\n",
       "    </tr>\n",
       "    <tr>\n",
       "      <th>2</th>\n",
       "      <td>ID67890</td>\n",
       "      <td>Veronica Perez</td>\n",
       "    </tr>\n",
       "    <tr>\n",
       "      <th>3</th>\n",
       "      <td>ID87654</td>\n",
       "      <td>Barry Pipe</td>\n",
       "    </tr>\n",
       "    <tr>\n",
       "      <th>4</th>\n",
       "      <td>ID75645342</td>\n",
       "      <td>Abby Chee</td>\n",
       "    </tr>\n",
       "  </tbody>\n",
       "</table>\n",
       "</div>"
      ],
      "text/plain": [
       "  Employee Export Code   Employee Name\n",
       "0            ID1234567   Pedro Sanchez\n",
       "1              ID23456   Rafael Suarez\n",
       "2              ID67890  Veronica Perez\n",
       "3              ID87654      Barry Pipe\n",
       "4           ID75645342       Abby Chee"
      ]
     },
     "execution_count": 33,
     "metadata": {},
     "output_type": "execute_result"
    }
   ],
   "source": [
    "employees"
   ]
  },
  {
   "cell_type": "markdown",
   "metadata": {},
   "source": [
    "-----"
   ]
  },
  {
   "cell_type": "markdown",
   "metadata": {},
   "source": [
    "### New Table Format"
   ]
  },
  {
   "cell_type": "code",
   "execution_count": 34,
   "metadata": {},
   "outputs": [],
   "source": [
    "employees.insert(2, 'Worked hours July (Hours)', ' ')\n",
    "employees.insert(3, 'Sick hours July (Hours)', ' ')\n",
    "employees.insert(4, 'Holidays July (Hours)' , ' ')\n",
    "employees.insert(5, 'Hourly wage (Euro/Hours)' , ' ')\n",
    "employees.insert(6, 'Position' , ' ')\n",
    "employees.insert(7, 'Store' , ' ')\n",
    "employees.insert(8, 'Working Type' , ' ')\n"
   ]
  },
  {
   "cell_type": "code",
   "execution_count": 35,
   "metadata": {},
   "outputs": [
    {
     "data": {
      "text/html": [
       "<div>\n",
       "<style scoped>\n",
       "    .dataframe tbody tr th:only-of-type {\n",
       "        vertical-align: middle;\n",
       "    }\n",
       "\n",
       "    .dataframe tbody tr th {\n",
       "        vertical-align: top;\n",
       "    }\n",
       "\n",
       "    .dataframe thead th {\n",
       "        text-align: right;\n",
       "    }\n",
       "</style>\n",
       "<table border=\"1\" class=\"dataframe\">\n",
       "  <thead>\n",
       "    <tr style=\"text-align: right;\">\n",
       "      <th></th>\n",
       "      <th>Employee Export Code</th>\n",
       "      <th>Employee Name</th>\n",
       "      <th>Worked hours July (Hours)</th>\n",
       "      <th>Sick hours July (Hours)</th>\n",
       "      <th>Holidays July (Hours)</th>\n",
       "      <th>Hourly wage (Euro/Hours)</th>\n",
       "      <th>Position</th>\n",
       "      <th>Store</th>\n",
       "      <th>Working Type</th>\n",
       "    </tr>\n",
       "  </thead>\n",
       "  <tbody>\n",
       "    <tr>\n",
       "      <th>0</th>\n",
       "      <td>ID1234567</td>\n",
       "      <td>Pedro Sanchez</td>\n",
       "      <td></td>\n",
       "      <td></td>\n",
       "      <td></td>\n",
       "      <td></td>\n",
       "      <td></td>\n",
       "      <td></td>\n",
       "      <td></td>\n",
       "    </tr>\n",
       "    <tr>\n",
       "      <th>1</th>\n",
       "      <td>ID23456</td>\n",
       "      <td>Rafael Suarez</td>\n",
       "      <td></td>\n",
       "      <td></td>\n",
       "      <td></td>\n",
       "      <td></td>\n",
       "      <td></td>\n",
       "      <td></td>\n",
       "      <td></td>\n",
       "    </tr>\n",
       "    <tr>\n",
       "      <th>2</th>\n",
       "      <td>ID67890</td>\n",
       "      <td>Veronica Perez</td>\n",
       "      <td></td>\n",
       "      <td></td>\n",
       "      <td></td>\n",
       "      <td></td>\n",
       "      <td></td>\n",
       "      <td></td>\n",
       "      <td></td>\n",
       "    </tr>\n",
       "    <tr>\n",
       "      <th>3</th>\n",
       "      <td>ID87654</td>\n",
       "      <td>Barry Pipe</td>\n",
       "      <td></td>\n",
       "      <td></td>\n",
       "      <td></td>\n",
       "      <td></td>\n",
       "      <td></td>\n",
       "      <td></td>\n",
       "      <td></td>\n",
       "    </tr>\n",
       "    <tr>\n",
       "      <th>4</th>\n",
       "      <td>ID75645342</td>\n",
       "      <td>Abby Chee</td>\n",
       "      <td></td>\n",
       "      <td></td>\n",
       "      <td></td>\n",
       "      <td></td>\n",
       "      <td></td>\n",
       "      <td></td>\n",
       "      <td></td>\n",
       "    </tr>\n",
       "  </tbody>\n",
       "</table>\n",
       "</div>"
      ],
      "text/plain": [
       "  Employee Export Code   Employee Name Worked hours July (Hours)  \\\n",
       "0            ID1234567   Pedro Sanchez                             \n",
       "1              ID23456   Rafael Suarez                             \n",
       "2              ID67890  Veronica Perez                             \n",
       "3              ID87654      Barry Pipe                             \n",
       "4           ID75645342       Abby Chee                             \n",
       "\n",
       "  Sick hours July (Hours) Holidays July (Hours) Hourly wage (Euro/Hours)  \\\n",
       "0                                                                          \n",
       "1                                                                          \n",
       "2                                                                          \n",
       "3                                                                          \n",
       "4                                                                          \n",
       "\n",
       "  Position Store Working Type  \n",
       "0                              \n",
       "1                              \n",
       "2                              \n",
       "3                              \n",
       "4                              "
      ]
     },
     "execution_count": 35,
     "metadata": {},
     "output_type": "execute_result"
    }
   ],
   "source": [
    "employees"
   ]
  },
  {
   "cell_type": "code",
   "execution_count": 36,
   "metadata": {},
   "outputs": [],
   "source": [
    "#Fill column Worked hours July (Hours) >>>>> with column \"sum(Total Hours)\" from hours_m1 \n",
    "\n",
    "i=0\n",
    "j=0\n",
    "for i in range(len(employees['Employee Name'])):\n",
    "    for j in range(len(hours_m1['Employee Name'])):\n",
    "        if employees['Employee Export Code'][i]==hours_m1['Employee Export Code'][j]:\n",
    "            if employees['Employee Name'][i]==hours_m1['Employee Name'][j]:\n",
    "                employees['Worked hours July (Hours)'][i]=hours_m1['sum(\"Total Hours\")'][j]\n",
    "            else: j=j+1\n",
    "    else:i=i+1        \n",
    "\n"
   ]
  },
  {
   "cell_type": "code",
   "execution_count": 37,
   "metadata": {},
   "outputs": [],
   "source": [
    "#Fill column Holidays July (Hours) >>>>> with column \"sum(Total Hours)\" from hours_m1_vac \n",
    "\n",
    "i=0\n",
    "j=0\n",
    "for i in range(len(employees['Employee Name'])):\n",
    "    for j in range(len(hours_m1_vac['Employee Name'])):\n",
    "        if employees['Employee Export Code'][i]==hours_m1_vac['Employee Export Code'][j]:\n",
    "            if employees['Employee Name'][i]==hours_m1_vac['Employee Name'][j]:\n",
    "                employees['Holidays July (Hours)'][i]=hours_m1_vac['sum(\"Total Hours\")'][j]\n",
    "            else: j=j+1\n",
    "    else:i=i+1 "
   ]
  },
  {
   "cell_type": "code",
   "execution_count": 38,
   "metadata": {},
   "outputs": [],
   "source": [
    "#Fill column Sick hours July (Hours) >>>>> with column \"sum(Total Hours)\" from hours_m1_sick \n",
    "\n",
    "i=0\n",
    "j=0\n",
    "for i in range(len(employees['Employee Name'])):\n",
    "    for j in range(len(hours_m1_sick['Employee Name'])):\n",
    "        if employees['Employee Export Code'][i]==hours_m1_sick['Employee Export Code'][j]:\n",
    "            if employees['Employee Name'][i]==hours_m1_sick['Employee Name'][j]:\n",
    "                employees['Sick hours July (Hours)'][i]=hours_m1_sick['sum(\"Total Hours\")'][j]\n",
    "            else: j=j+1\n",
    "    else:i=i+1 "
   ]
  },
  {
   "cell_type": "code",
   "execution_count": 39,
   "metadata": {},
   "outputs": [
    {
     "data": {
      "text/html": [
       "<div>\n",
       "<style scoped>\n",
       "    .dataframe tbody tr th:only-of-type {\n",
       "        vertical-align: middle;\n",
       "    }\n",
       "\n",
       "    .dataframe tbody tr th {\n",
       "        vertical-align: top;\n",
       "    }\n",
       "\n",
       "    .dataframe thead th {\n",
       "        text-align: right;\n",
       "    }\n",
       "</style>\n",
       "<table border=\"1\" class=\"dataframe\">\n",
       "  <thead>\n",
       "    <tr style=\"text-align: right;\">\n",
       "      <th></th>\n",
       "      <th>Employee Export Code</th>\n",
       "      <th>Employee Name</th>\n",
       "      <th>Worked hours July (Hours)</th>\n",
       "      <th>Sick hours July (Hours)</th>\n",
       "      <th>Holidays July (Hours)</th>\n",
       "      <th>Hourly wage (Euro/Hours)</th>\n",
       "      <th>Position</th>\n",
       "      <th>Store</th>\n",
       "      <th>Working Type</th>\n",
       "    </tr>\n",
       "  </thead>\n",
       "  <tbody>\n",
       "    <tr>\n",
       "      <th>0</th>\n",
       "      <td>ID1234567</td>\n",
       "      <td>Pedro Sanchez</td>\n",
       "      <td>33.0</td>\n",
       "      <td>16.0</td>\n",
       "      <td>120.0</td>\n",
       "      <td></td>\n",
       "      <td></td>\n",
       "      <td></td>\n",
       "      <td></td>\n",
       "    </tr>\n",
       "    <tr>\n",
       "      <th>1</th>\n",
       "      <td>ID23456</td>\n",
       "      <td>Rafael Suarez</td>\n",
       "      <td>35.72</td>\n",
       "      <td>10.0</td>\n",
       "      <td></td>\n",
       "      <td></td>\n",
       "      <td></td>\n",
       "      <td></td>\n",
       "      <td></td>\n",
       "    </tr>\n",
       "    <tr>\n",
       "      <th>2</th>\n",
       "      <td>ID67890</td>\n",
       "      <td>Veronica Perez</td>\n",
       "      <td>39.89</td>\n",
       "      <td></td>\n",
       "      <td></td>\n",
       "      <td></td>\n",
       "      <td></td>\n",
       "      <td></td>\n",
       "      <td></td>\n",
       "    </tr>\n",
       "    <tr>\n",
       "      <th>3</th>\n",
       "      <td>ID87654</td>\n",
       "      <td>Barry Pipe</td>\n",
       "      <td>40.08</td>\n",
       "      <td></td>\n",
       "      <td></td>\n",
       "      <td></td>\n",
       "      <td></td>\n",
       "      <td></td>\n",
       "      <td></td>\n",
       "    </tr>\n",
       "    <tr>\n",
       "      <th>4</th>\n",
       "      <td>ID75645342</td>\n",
       "      <td>Abby Chee</td>\n",
       "      <td>83.58</td>\n",
       "      <td></td>\n",
       "      <td></td>\n",
       "      <td></td>\n",
       "      <td></td>\n",
       "      <td></td>\n",
       "      <td></td>\n",
       "    </tr>\n",
       "  </tbody>\n",
       "</table>\n",
       "</div>"
      ],
      "text/plain": [
       "  Employee Export Code   Employee Name Worked hours July (Hours)  \\\n",
       "0            ID1234567   Pedro Sanchez                      33.0   \n",
       "1              ID23456   Rafael Suarez                     35.72   \n",
       "2              ID67890  Veronica Perez                     39.89   \n",
       "3              ID87654      Barry Pipe                     40.08   \n",
       "4           ID75645342       Abby Chee                     83.58   \n",
       "\n",
       "  Sick hours July (Hours) Holidays July (Hours) Hourly wage (Euro/Hours)  \\\n",
       "0                    16.0                 120.0                            \n",
       "1                    10.0                                                  \n",
       "2                                                                          \n",
       "3                                                                          \n",
       "4                                                                          \n",
       "\n",
       "  Position Store Working Type  \n",
       "0                              \n",
       "1                              \n",
       "2                              \n",
       "3                              \n",
       "4                              "
      ]
     },
     "execution_count": 39,
     "metadata": {},
     "output_type": "execute_result"
    }
   ],
   "source": [
    "employees"
   ]
  },
  {
   "cell_type": "markdown",
   "metadata": {},
   "source": [
    "<a href=\"https://www.linkedin.com/in/alejandradominique/\">Alejandra Ramos de Vega</a> Data Analyst and Electrical Engineering"
   ]
  }
 ],
 "metadata": {
  "interpreter": {
   "hash": "aee8b7b246df8f9039afb4144a1f6fd8d2ca17a180786b69acc140d282b71a49"
  },
  "kernelspec": {
   "display_name": "Python 3.10.4 64-bit",
   "language": "python",
   "name": "python3"
  },
  "language_info": {
   "codemirror_mode": {
    "name": "ipython",
    "version": 3
   },
   "file_extension": ".py",
   "mimetype": "text/x-python",
   "name": "python",
   "nbconvert_exporter": "python",
   "pygments_lexer": "ipython3",
   "version": "3.10.5"
  },
  "orig_nbformat": 4
 },
 "nbformat": 4,
 "nbformat_minor": 2
}
